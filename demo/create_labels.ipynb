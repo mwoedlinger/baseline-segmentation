{
 "cells": [
  {
   "cell_type": "markdown",
   "metadata": {},
   "source": [
    "# Generate labels from Transkribus data"
   ]
  },
  {
   "cell_type": "markdown",
   "metadata": {},
   "source": [
    "This file creates the label files from the original scans and xml files. \n",
    "Two parameters need to be specified:\n",
    "\n",
    "```\n",
    "cfg_input_folder: folder where the Transkribus scans are located\n",
    "cfg_output_folder: folder where the output will be saved\n",
    "```\n",
    "\n",
    "The program assumes the following file structure:\n",
    "```\n",
    "cfg_input_folder/\n",
    "|-- folder 1\n",
    "|   |-- page\n",
    "|   |   | image1.xml\n",
    "|   |   | image2.xml\n",
    "|   |   | ...\n",
    "|   | image1.png\n",
    "|   | image2.png\n",
    "|   | ...\n",
    "|-- folder 2\n",
    "| ...\n",
    "```"
   ]
  },
  {
   "cell_type": "code",
   "execution_count": 1,
   "metadata": {
    "pycharm": {
     "is_executing": false,
     "name": "#%%\n"
    }
   },
   "outputs": [],
   "source": [
    "import os, sys\n",
    "sys.path.append('C:\\\\Users\\\\matthias\\\\Documents\\\\myProjects\\\\baseline_segmentation')\n",
    "\n",
    "import shutil\n",
    "from tqdm import tqdm_notebook as tqdm\n",
    "from src.utils.generate_segmentation_labels import XMLParserBaselines\n",
    "from src.utils.utils import load_class_dict\n",
    "from distutils.dir_util import copy_tree"
   ]
  },
  {
   "cell_type": "code",
   "execution_count": 2,
   "metadata": {
    "pycharm": {
     "name": "#%%\n"
    }
   },
   "outputs": [
    {
     "name": "stdout",
     "output_type": "stream",
     "text": [
      "thickness: 2\n",
      "dot_thickness: 3\n",
      "classes:\n",
      "\n",
      "bg                   [0, 0, 0]\n",
      "text                 [125, 125, 125]\n",
      "sp_ep_border         [125, 0, 125]\n",
      "baselines            [0, 255, 0]\n",
      "end_points           [0, 0, 255]\n",
      "start_points         [255, 0, 0]\n"
     ]
    }
   ],
   "source": [
    "max_side_length = 1024\n",
    "thickness = round(2.0*max_side_length/256)-6 #-6 for 1024 #-2 for 512\n",
    "dot_thickness = round(2.0*max_side_length/256)-5 #-5 for 1024 #-2 for 512\n",
    "class_file = os.path.join('..', 'data', 'class_files', 'classes_btsb.txt')\n",
    "classes, colors, color_dict = load_class_dict(class_file)\n",
    "\n",
    "print('thickness: {}'.format(thickness))\n",
    "print('dot_thickness: {}'.format(dot_thickness))\n",
    "print('classes:\\n')\n",
    "for c in classes:\n",
    "    print('{:20s} {}'.format(c, color_dict[c]))"
   ]
  },
  {
   "cell_type": "code",
   "execution_count": 3,
   "metadata": {
    "pycharm": {
     "name": "#%%\n"
    }
   },
   "outputs": [],
   "source": [
    "cfg_input_folder = os.path.join('..', 'data', 'cBAD-ICDAR2019')\n",
    "cfg_output_folder = os.path.join('..', 'data', 'cBAD_' + str(max_side_length) + '_squared')\n",
    "cfg_pad = False"
   ]
  },
  {
   "cell_type": "code",
   "execution_count": 4,
   "metadata": {
    "pycharm": {
     "name": "#%%\n"
    }
   },
   "outputs": [
    {
     "data": {
      "text/plain": [
       "'..\\\\data\\\\cBAD_1024_squared\\\\classes_btsb.txt'"
      ]
     },
     "execution_count": 4,
     "metadata": {},
     "output_type": "execute_result"
    }
   ],
   "source": [
    "if not os.path.isdir(os.path.join(cfg_output_folder)):\n",
    "    os.mkdir(cfg_output_folder)\n",
    "shutil.copy(class_file, os.path.join(cfg_output_folder, 'classes_btsb.txt'))"
   ]
  },
  {
   "cell_type": "code",
   "execution_count": 5,
   "metadata": {
    "pycharm": {
     "name": "#%%\n"
    }
   },
   "outputs": [
    {
     "name": "stdout",
     "output_type": "stream",
     "text": [
      "Processing ..\\data\\cBAD-ICDAR2019\\eval\\\n"
     ]
    },
    {
     "name": "stderr",
     "output_type": "stream",
     "text": [
      "c:\\users\\matthias\\documents\\myprojects\\baseline_segmentation\\venv\\lib\\site-packages\\ipykernel_launcher.py:4: TqdmDeprecationWarning: This function will be removed in tqdm==5.0.0\n",
      "Please use `tqdm.notebook.tqdm` instead of `tqdm.tqdm_notebook`\n",
      "  after removing the cwd from sys.path.\n"
     ]
    },
    {
     "data": {
      "application/vnd.jupyter.widget-view+json": {
       "model_id": "2c470b81a64a499bb0153441ca8bb20b",
       "version_major": 2,
       "version_minor": 0
      },
      "text/plain": [
       "HBox(children=(FloatProgress(value=0.0, max=755.0), HTML(value='')))"
      ]
     },
     "metadata": {},
     "output_type": "display_data"
    },
    {
     "name": "stdout",
     "output_type": "stream",
     "text": [
      "\n",
      "Processing ..\\data\\cBAD-ICDAR2019\\test\\\n"
     ]
    },
    {
     "data": {
      "application/vnd.jupyter.widget-view+json": {
       "model_id": "2895a480261d4341ac94a47e4fbbc5e2",
       "version_major": 2,
       "version_minor": 0
      },
      "text/plain": [
       "HBox(children=(FloatProgress(value=0.0, max=1511.0), HTML(value='')))"
      ]
     },
     "metadata": {},
     "output_type": "display_data"
    },
    {
     "name": "stdout",
     "output_type": "stream",
     "text": [
      "\n",
      "Processing ..\\data\\cBAD-ICDAR2019\\train\\\n"
     ]
    },
    {
     "data": {
      "application/vnd.jupyter.widget-view+json": {
       "model_id": "cc2c78654be343fc973cba2131540639",
       "version_major": 2,
       "version_minor": 0
      },
      "text/plain": [
       "HBox(children=(FloatProgress(value=0.0, max=755.0), HTML(value='')))"
      ]
     },
     "metadata": {},
     "output_type": "display_data"
    },
    {
     "name": "stdout",
     "output_type": "stream",
     "text": [
      "\n"
     ]
    }
   ],
   "source": [
    "for root, directories, filenames in os.walk(cfg_input_folder):\n",
    "    if (root.split(os.sep)[-1] == 'page'):\n",
    "        print('Processing ' + root[:-4])\n",
    "        for file in tqdm(filenames):\n",
    "            if not os.path.isdir(os.path.join(cfg_output_folder, root.split(os.sep)[-2])):\n",
    "                os.mkdir(os.path.join(cfg_output_folder, root.split(os.sep)[-2]))\n",
    "            xml_parser = XMLParserBaselines(xml_filename=os.path.join(root, file),\n",
    "                                            input_folder=root[:-4], \n",
    "                                            output_folder=os.path.join(cfg_output_folder, root.split(os.sep)[-2]),\n",
    "                                            size_parameter=max_side_length,\n",
    "                                            class_file=class_file)\n",
    "            #xml_parser.scale(max_side_length)\n",
    "            xml_parser.save_as_mask(pad=cfg_pad, thickness=thickness, dot_thickness=dot_thickness)"
   ]
  },
  {
   "cell_type": "code",
   "execution_count": null,
   "metadata": {},
   "outputs": [],
   "source": []
  }
 ],
 "metadata": {
  "kernelspec": {
   "display_name": "Python 3",
   "language": "python",
   "name": "python3"
  },
  "language_info": {
   "codemirror_mode": {
    "name": "ipython",
    "version": 3
   },
   "file_extension": ".py",
   "mimetype": "text/x-python",
   "name": "python",
   "nbconvert_exporter": "python",
   "pygments_lexer": "ipython3",
   "version": "3.6.8"
  },
  "pycharm": {
   "stem_cell": {
    "cell_type": "raw",
    "metadata": {
     "collapsed": false
    },
    "source": []
   }
  }
 },
 "nbformat": 4,
 "nbformat_minor": 1
}
